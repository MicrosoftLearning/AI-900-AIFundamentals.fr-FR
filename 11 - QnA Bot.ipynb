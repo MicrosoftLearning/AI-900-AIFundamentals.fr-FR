{
  "cells": [
    {
      "cell_type": "markdown",
      "source": [
        "# IA conversationnelle\r\n",
        "\r\n",
        "Pensez à la fréquence à laquelle vous communiquez avec d’autres personnes par le biais de la messagerie instantanée, des médias sociaux, des courriels ou d’autres technologies en ligne. Pour nombre d’entre nous, c’est le moyen de communication par excellence. Lorsque vous avez une question au travail, vous pouvez contacter un collègue par le biais de la messagerie instantanée, que vous pouvez utiliser sur des appareils mobiles, afin d’être toujours en contact.\r\n",
        "\r\n",
        "![Un humain et un robot en pleine conversation](./images/conversational_ai.jpg)\r\n",
        "\r\n",
        "Les bots sont des agents d’intelligence artificielle qui communiquent par ce type de canaux, permettant un engagement naturel et conversationnel avec les services logiciels.\r\n",
        "\r\n",
        "## Créer une base de connaissances QnA Maker\r\n",
        "\r\n",
        "Pour les scénarios service clientèle, il est courant de créer un bot capable d’interpréter les questions fréquemment posées et d’y répondre par le biais d’une fenêtre de conversation sur un site Web, d’un courriel ou d’une interface vocale. L’interface du bot repose sur une base de connaissances contenant des questions et des réponses appropriées que le bot peut consulter pour trouver des réponses adéquates.\r\n",
        "\r\n",
        "Le service QnA Maker est un service cognitif d’Azure qui vous permet de créer rapidement une base de connaissances, soit en saisissant des paires de questions et de réponses, soit à partir d’un document ou d’une page Web existants. Il peut ensuite utiliser certaines capacités intégrées de traitement du langage naturel pour interpréter les questions et trouver des réponses appropriées.\r\n",
        "\r\n",
        "1. Ouvrez un autre onglet de navigateur et allez sur le portail QnA Maker à l’adresse https://qnamaker.ai. Connectez-vous avec le compte Microsoft associé à votre abonnement Azure.\r\n",
        "2. Dans le portail QnA Maker, sélectionnez **Créer une base de connaissances**.\r\n",
        "3. Si vous n’avez pas encore créé de ressource de service QnA, sélectionnez **Créer un service QnA**. Le portail Azure sera ouvert dans un autre onglet afin que vous puissiez créer un service QnA Maker dans votre abonnement. Utilisez les paramètres suivants :\r\n",
        "   \r\n",
        "   - **Abonnement** : *Votre abonnement Azure*\r\n",
        "   - **Groupe de ressources** : *Sélectionnez un groupe de ressources existant ou créez-en un*\r\n",
        "   - **Nom** : *Un nom unique pour votre ressource QnA*\r\n",
        "   - **Niveau tarifaire** : F0\r\n",
        "   - **Niveau tarifaire Recherche Azure** : F\r\n",
        "   - **Emplacement de la Recherche Azure** : *N’importe quel emplacement disponible*\r\n",
        "   - **Nom de l’application** : _Même que **Nom** (« .azurewebsites.net » sera ajouté automatiquement)_\r\n",
        "   - **Emplacement du site Web** : _Même que **Emplacement de la Recherche Azure**_\r\n",
        "   - **App Insights** : Désactiver\r\n",
        "\r\n",
        "> **Remarque** : Si vous avez déjà provisionné un **QnA Maker** de niveau libre ou des ressources **Recherche Azure**, votre quota peut ne pas vous permettre d’en créer un autre. Dans ce cas, sélectionnez un niveau autre que **F0** / **F**.\r\n",
        "\r\n",
        "4. Attendez que le déploiement du service QnA et des ressources associées se termine dans le portail Azure.\r\n",
        "5. Revenez à l’onglet du portail QnA Maker, et dans la section **Étape 2**, cliquez sur **Actualiser** pour actualiser la liste des ressources de service QnA disponibles.\r\n",
        "6. Connectez votre service QnA à votre base de connaissances en sélectionnant les options suivantes :\r\n",
        "  - **ID Microsoft Azure Active Directory** : *L’ID répertoire Azure de votre abonnement*\r\n",
        "  - **Nom de l’abonnement Azure** : *Votre abonnement Azure*\r\n",
        "  - **Azure QnA Service** : *La ressource service QnA que vous avez créée dans la section précédente*\r\n",
        "  - **Langue** : Anglais\r\n",
        "\r\n",
        "### (!) Vérification\r\n",
        "Si un message indiquant que le rôle n’a pas la permission d’effectuer l’action s’affiche, actualisez la page du navigateur pour le portail QnA Maker.\r\n",
        "\r\n",
        "7. Dans la section **Étape 3**, saisissez le nom **Base de connaissances Margie’s Travel**.\r\n",
        "8. Dans la section **Étape 4**, dans la zone **URL**, saisissez *https://github.com/MicrosoftLearning/mslearn-ai900/raw/main/data/qna_bot/margies_faq.docx* et cliquez sur **+ Ajouter une URL**. Ensuite, sous **Chit-chat**, sélectionnez **Professionnel**.\r\n",
        "9. Dans la section **Étape 5**, cliquez sur **Créer votre base de connaissances**.\r\n",
        "10. Attendez une minute ou deux pendant que la création de votre base de connaissances. Passez ensuite en revue les questions et les réponses qui ont été importées du document FAQ et les réponses prédéfinies du chat professionnel.\r\n"
      ],
      "metadata": {}
    },
    {
      "cell_type": "markdown",
      "source": [
        "## Éditer la base de connaissances\r\n",
        "\r\n",
        "Votre base de connaissances est basée sur les détails du document FAQ et sur certaines réponses prédéfinies. Vous pouvez ajouter des paires de questions et réponses personnalisées pour les compléter.\r\n",
        "\r\n",
        "1. Cliquer sur **+ Ajouter une paire QnA**.\r\n",
        "2. Dans la zone **Question**, saisissez `Hello`. Cliquez ensuite sur **+ Ajouter une formulation alternative** et saisissez `Hi`.\r\n",
        "3. Dans la zone **Réponse**, saisissez `Hello`.\r\n",
        "\r\n",
        "## Entraîner et tester la base de connaissances\r\n",
        "\r\n",
        "Maintenant que vous avez une base de connaissances, vous pouvez la tester dans le portail QnA Maker.\r\n",
        "\r\n",
        "1. En haut à droite de la page, cliquez sur **Enregistrer et entraîner** pour entraîner votre base de connaissances. Vous devrez peut-être agrandir la fenêtre pour voir le bouton.\r\n",
        "2. Une fois la formation terminée, cliquez sur **&larr; Test** pour ouvrir le volet de test.\r\n",
        "3. Dans le volet de test, en bas, saisissez le message *Salut*. La réponse **Bonjour** devrait être renvoyée.\r\n",
        "4. Dans le volet de test, en bas, saisissez le message *Je veux réserver un vol*. Une réponse appropriée du FAQ doit être renvoyée.\r\n",
        "5. Lorsque vous avez terminé de tester la base de connaissances, cliquez sur **&rarr; Test** pour fermer le volet de test.\r\n"
      ],
      "metadata": {}
    },
    {
      "cell_type": "markdown",
      "source": [
        "## Créer un bot pour la base de connaissances\r\n",
        "\r\n",
        "La base de connaissances fournit un service de bout en bout que les applications clientes peuvent utiliser pour répondre aux questions par le biais d’une sorte d’interface utilisateur. En général, ces applications clientes sont des bots. Pour mettre la base de connaissances à la disposition d’un bot, vous devez la publier en tant que service accessible via HTTP. Vous pouvez ensuite utiliser le service Azure Bot pour créer et héberger un bot qui utilise la base de connaissances pour répondre aux questions des utilisateurs.\r\n",
        "\r\n",
        "1. En haut de la page QnA Make, cliquez sur **Publier**. Puis, dans la **Base de connaissances Margies Travel**, cliquez sur **Publier**.\r\n",
        "2. Une fois le service déployé, cliquez sur **Créer bot**. Cela ouvre le portail Azure dans un nouvel onglet de navigateur afin que vous puissiez créer un Web App Bot dans votre abonnement Azure.\r\n",
        "3. Dans le portail Azure, créez un Web App Bot avec les paramètres suivants (la plupart d’entre eux seront pré-remplis pour vous) :\r\n",
        "  - **Descripteur du bot** : *Un nom unique pour votre bot*\r\n",
        "  - **Abonnement** : *Votre abonnement Azure*\r\n",
        "  - **Groupe de ressources** : *Le groupe de ressources contenant votre ressource QnA Maker*\r\n",
        "  - **Emplacement** : *Le même emplacement que votre service QnA Maker*.\r\n",
        "  - **Niveau tarifaire** : F0\r\n",
        "  - **Nom de l’application** : *Identique au **Descripteur du bot** avec *.azurewebsites.net* ajouté automatiquement\r\n",
        "  - **Langage du SDK** : *Choisissez soit C# soit Node.js*\r\n",
        "  - **Clé d’authentification QnA** : *Cela devrait être automatiquement défini sur la clé d’authentification de votre base de connaissances QnA*\r\n",
        "  - **Plan/emplacement App Service** : *Cela devrait être automatiquement défini sur un plan et un emplacement appropriés*\r\n",
        "  - **Application Insights** : Désactivé\r\n",
        "  - **ID d’application et mot de passe Microsoft** : Création automatique de l’ID d’application et du mot de passe.\r\n",
        "4. Attendez que votre bot soit créé (l’icône de notification en haut à droite, qui ressemble à une cloche, sera animée pendant que vous attendez). Ensuite, dans la notification indiquant que le déploiement est terminé, cliquez sur **Aller à la ressource** (ou alternativement, sur la page d’accueil, cliquez sur **Groupes de ressources**, ouvrez le groupe de ressources où vous avez créé le bot de l’application Web, et cliquez dessus).\r\n",
        "5. Dans le volet gauche du panneau de votre bot, recherchez **Paramètres**, cliquez sur **Tester dans une discussion web** et attendez que le bot affiche le message **Bonjour et bienvenue** (l’initialisation peut prendre quelques secondes).\r\n",
        "6. Utilisez l’interface de chat de test pour vous assurer que votre bot répond aux questions de votre base de connaissances comme prévu. Par exemple, essayez de soumettre *Je dois annuler mon hôtel*.\r\n"
      ],
      "metadata": {}
    },
    {
      "cell_type": "markdown",
      "source": [
        "## Accéder au bot par un canal\r\n",
        "\r\n",
        "Un bot peut être utilisé pour fournir une interface aux utilisateurs via un ou plusieurs *canaux*. Par exemple, le même bot peut prendre en charge des interactions par le biais d’une interface de chat Web, d’un courriel et de Microsoft Teams.\r\n",
        "\r\n",
        "1. Dans le volet gauche de votre bot, recherchez **Paramètres** et cliquez sur **Canaux**.\r\n",
        "2. Notez que le canal **Chat Web** a été ajouté automatiquement et que d’autres canaux pour les plate-formes de communication courantes sont également disponibles.\r\n",
        "3. En regard du canal **Chat Web**, cliquez sur **Modifier**. Une page s’ouvre avec les paramètres dont vous avez besoin pour intégrer votre bot dans une page Web. Pour intégrer votre bot, vous avez besoin du code HTML fourni ainsi que de l’une des clés secrètes générées pour votre bot.\r\n",
        "4. Copiez le **Code intégré** et collez-le dans la cellule ci-dessous, en remplaçant le commentaire `<!-- EMBED CODE GOES HERE -->`.\r\n",
        "5. Cliquez sur **Afficher** pour l’une de vos clés secrètes (peu importe laquelle), et copiez-la. Puis collez-la dans votre code HTML intégré ci-dessous, en remplaçant `YOUR_SECRET_HERE`.\r\n",
        "6. Changez la valeur **hauteur min.** dans votre code HTML à **200px** (au lieu des 500px par défaut). Cela permettra de s’assurer que l’interface HTML est visible sans défilement.\r\n",
        "7. Exécutez la cellule ci-dessous en cliquant sur le bouton **Exécuter la cellule** (&#9655;) à gauche de la cellule pour rendre le HTML.\r\n",
        "8. Dans l’interface de chat HTML, testez le bot en soumettant une question, telle que *Qui est Margie ?* ou *Quelles sont les destinations où je peux me rendre ?* (lorsque le bot s’initialise, il peut répondre par le message *Bonjour et bienvenue* en plus de répondre à votre question)."
      ],
      "metadata": {}
    },
    {
      "cell_type": "code",
      "execution_count": null,
      "source": [
        "%%html\r\n",
        "\r\n",
        "<!-- EMBED CODE GOES HERE -->"
      ],
      "outputs": [],
      "metadata": {}
    },
    {
      "cell_type": "markdown",
      "source": [
        "Expérimentez avec le bot. Vous constaterez probablement qu’il peut répondre aux questions de la FAQ de manière assez précise, mais que sa capacité à interpréter les questions pour lesquelles il n’a pas été formé est limitée. Vous pouvez toujours utiliser le portail QnA Maker pour modifier la base de connaissances afin de l’améliorer, puis la republier.\r\n",
        "\r\n",
        "## En savoir plus\r\n",
        "\r\n",
        "- Pour en savoir plus sur le service QnA Maker, consultez [la documentation QnA Maker](https://docs.microsoft.com/azure/cognitive-services/qnamaker/).\r\n",
        "- Pour en savoir plus sur le Microsoft Bot Service, consultez [la page Azure Bot Service](https://azure.microsoft.com/services/bot-service/)."
      ],
      "metadata": {}
    }
  ],
  "metadata": {
    "language_info": {
      "name": "python",
      "version": "3.6.9",
      "mimetype": "text/x-python",
      "codemirror_mode": {
        "name": "ipython",
        "version": 3
      },
      "pygments_lexer": "ipython3",
      "nbconvert_exporter": "python",
      "file_extension": ".py"
    },
    "kernelspec": {
      "name": "python3-azureml",
      "language": "python",
      "display_name": "Python 3.6 - AzureML"
    },
    "kernel_info": {
      "name": "python3-azureml"
    },
    "nteract": {
      "version": "nteract-front-end@1.0.0"
    }
  },
  "nbformat": 4,
  "nbformat_minor": 2
}