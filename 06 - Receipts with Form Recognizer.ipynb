{
  "cells": [
    {
      "cell_type": "markdown",
      "source": [
        "# Analyser des reçus avec Form Recognizer\r\n",
        "\r\n",
        "![Robot tenant un reçu](./images/receipt_analysis.jpg)\r\n",
        "\r\n",
        "Dans le domaine de l’intelligence artificielle (IA) de la vision par ordinateur, la reconnaissance optique de caractères (OCR) est couramment utilisée pour lire des documents imprimés ou manuscrits. Souvent, le texte est simplement extrait des documents dans un format qui peut être utilisé pour un traitement ou une analyse ultérieure.\r\n",
        "\r\n",
        "Un scénario d’OCR plus avancé est l’extraction d’informations de formulaires, tels que des bons de commande ou des factures, avec une compréhension sémantique de ce que les champs du formulaire représentent. Le service **Form Recognizer** est spécialement conçu pour ce type de problème d’IA.\r\n",
        "\r\n",
        "## Afficher un reçu\r\n",
        "\r\n",
        "Dans cet exemple, vous allez utiliser le modèle intégré de Form Recognizer pour analyser des reçus.\r\n",
        "\r\n",
        "Cliquez sur le bouton **Exécuter la cellule** (&#9655;) (à gauche de la cellule) ci-dessous pour l’exécuter et afficher un exemple de reçu pour lequel vous utiliserez Form Recognizer pour l’analyser."
      ],
      "metadata": {}
    },
    {
      "cell_type": "code",
      "source": [
        "import matplotlib.pyplot as plt\n",
        "from PIL import Image\n",
        "import os\n",
        "%matplotlib inline\n",
        "\n",
        "\n",
        "# Load and display a receipt image\r\n",
        "fig = plt.figure(figsize=(6, 6))\n",
        "image_path = os.path.join('data', 'form-receipt', 'receipt.jpg')\n",
        "img = Image.open(image_path)\n",
        "plt.axis('off')\n",
        "plt.imshow(img)"
      ],
      "outputs": [],
      "execution_count": null,
      "metadata": {
        "gather": {
          "logged": 1599694427893
        }
      }
    },
    {
      "cell_type": "markdown",
      "source": [
        "## Créer une ressource Form Recognizer\r\n",
        "\r\n",
        "Commencez par Créer une ressource Form Recognizer dans votre abonnement Azure :\r\n",
        "\r\n",
        "1. Sous un autre onglet du navigateur, ouvrez le portail Azure à l’adresse https://portal.azure.com, en vous connectant avec votre compte Microsoft.\r\n",
        "2. Sélectionnez **+ Créer une ressource**, puis recherchez *Form Recognizer*.\r\n",
        "3. Dans la liste des services, sélectionnez **Form Recognizer**.\r\n",
        "4. Dans le panneau **Form Recognizer**, sélectionnez **Créer**.\r\n",
        "5. Dans le panneau **Créer**, entrez les détails suivants et sélectionnez **Créer**\r\n",
        "   - **Nom** : Nom unique de votre service\r\n",
        "   - **Abonnement** : Votre abonnement Azure\r\n",
        "   - **Région** : Région disponible\r\n",
        "   - **Niveau tarifaire** : F0\r\n",
        "   - **Groupe de ressources** : Groupe de ressources existant que vous avez utilisé précédemment\r\n",
        "   - **Je confirme avoir lu et compris l’avis ci-dessous** : Sélectionné.\r\n",
        "6. Attendez que le service soit créé.\r\n",
        "7. Affichez votre service Form Recognizer nouvellement créé dans le portail Azure et sur la page **Clés et point de terminaison**. Copiez ensuite les valeurs **Clé1** et **Point de terminaison** et collez-les dans la cellule de code ci-dessous, en remplaçant les valeurs **YOUR_FORM_KEY** et **YOUR_FORM_ENDPOINT**."
      ],
      "metadata": {}
    },
    {
      "cell_type": "code",
      "source": [
        "form_key = 'YOUR_FORM_KEY'\n",
        "form_endpoint = 'YOUR_FORM_ENDPOINT'\n",
        "\n",
        "print('Ready to use form recognizer at {} using key {}'.format(form_endpoint, form_key))"
      ],
      "outputs": [],
      "execution_count": null,
      "metadata": {
        "gather": {
          "logged": 1599694505850
        }
      }
    },
    {
      "cell_type": "markdown",
      "source": [
        "## Analyser un reçu\r\n",
        "\r\n",
        "Vous êtes maintenant prêt à utiliser Form Recognizer pour analyser un reçu."
      ],
      "metadata": {}
    },
    {
      "cell_type": "code",
      "source": [
        "import os\n",
        "from azure.ai.formrecognizer import FormRecognizerClient\n",
        "from azure.core.credentials import AzureKeyCredential\n",
        "\n",
        "# Create a client for the form recognizer service\r\n",
        "form_recognizer_client = FormRecognizerClient(endpoint=form_endpoint, credential=AzureKeyCredential(form_key))\n",
        "\n",
        "try:\n",
        "    print(\"Analyzing receipt...\")\n",
        "    # Get the receipt image file\n",
        "    image_path = os.path.join('data', 'form-receipt', 'receipt.jpg')\n",
        "\n",
        "    # Submit the file data to form recognizer\n",
        "    with open(image_path, \"rb\") as f:\n",
        "        analyze_receipt = form_recognizer_client.begin_recognize_receipts(receipt=f)\n",
        "    \n",
        "    # Get the results\n",
        "    receipt_data = analyze_receipt.result()\n",
        "\n",
        "    # Print the extracted data for the first (and only) receipt\n",
        "    receipt = receipt_data[0]\n",
        "    receipt_type = receipt.fields.get(\"ReceiptType\")\n",
        "    if receipt_type:\n",
        "        print(\"Receipt Type: {}\".format(receipt_type.value))\n",
        "    merchant_address = receipt.fields.get(\"MerchantAddress\")\n",
        "    if merchant_address:\n",
        "        print(\"Merchant Address: {}\".format(merchant_address.value))\n",
        "    merchant_phone = receipt.fields.get(\"MerchantPhoneNumber\")\n",
        "    if merchant_phone:\n",
        "        print(\"Merchant Phone: {}\".format(merchant_phone.value))\n",
        "    transaction_date = receipt.fields.get(\"TransactionDate\")\n",
        "    if transaction_date:\n",
        "        print(\"Transaction Date: {}\".format(transaction_date.value))\n",
        "    print(\"Receipt items:\")\n",
        "    items = receipt.fields.get(\"Items\")\n",
        "    if items:\n",
        "        for idx, item in enumerate(receipt.fields.get(\"Items\").value):\n",
        "            print(\"\\tItem #{}\".format(idx+1))\n",
        "            item_name = item.value.get(\"Name\")\n",
        "            if item_name:\n",
        "                print(\"\\t - Name: {}\".format(item_name.value))\n",
        "            item_total_price = item.value.get(\"TotalPrice\")\n",
        "            if item_total_price:\n",
        "                print(\"\\t - Price: {}\".format(item_total_price.value))\n",
        "    subtotal = receipt.fields.get(\"Subtotal\")\n",
        "    if subtotal:\n",
        "        print(\"Subtotal: {} \".format(subtotal.value))\n",
        "    tax = receipt.fields.get(\"Tax\")\n",
        "    if tax:\n",
        "        print(\"Tax: {}\".format(tax.value))\n",
        "    total = receipt.fields.get(\"Total\")\n",
        "    if total:\n",
        "        print(\"Total: {}\".format(total.value))\n",
        "\n",
        "except Exception as ex:\n",
        "    print('Error:', ex)\n"
      ],
      "outputs": [],
      "execution_count": null,
      "metadata": {
        "gather": {
          "logged": 1599694525404
        }
      }
    },
    {
      "cell_type": "markdown",
      "source": [
        "Notez que Form Recognizer est capable d’interpréter les données du formulaire, en identifiant correctement l’adresse et le numéro de téléphone du commerçant, la date et l’heure de la transaction, ainsi que les articles de ligne, le sous-total, la taxe applicable et les montants totaux.\r\n",
        "\r\n",
        "## Informations complémentaires\r\n",
        "\r\n",
        "Pour plus d’informations sur le service Form Recognizer, consultez [la documentation de Form Recognizer](https://docs.microsoft.com/fr-fr/azure/cognitive-services/form-recognizer/index)"
      ],
      "metadata": {}
    }
  ],
  "metadata": {
    "language_info": {
      "name": "python",
      "version": "3.6.9",
      "mimetype": "text/x-python",
      "codemirror_mode": {
        "name": "ipython",
        "version": 3
      },
      "pygments_lexer": "ipython3",
      "nbconvert_exporter": "python",
      "file_extension": ".py"
    },
    "kernelspec": {
      "name": "python3-azureml",
      "language": "python",
      "display_name": "Python 3.6 - AzureML"
    },
    "kernel_info": {
      "name": "python3-azureml"
    },
    "nteract": {
      "version": "nteract-front-end@1.0.0"
    }
  },
  "nbformat": 4,
  "nbformat_minor": 2
}