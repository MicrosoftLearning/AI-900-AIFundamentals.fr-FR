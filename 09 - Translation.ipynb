{
  "cells": [
    {
      "cell_type": "markdown",
      "source": [
        "# Traduction\r\n",
        "\r\n",
        "L’une des forces motrices qui a permis à la civilisation humaine de se développer est la capacité de communication. Dans la plupart des activités humaines, la communication est essentielle.\r\n",
        "\r\n",
        "![Robot multilingue](./images/translation.jpg)\r\n",
        "\r\n",
        "L’intelligence artificielle (IA) permet de simplifier la communication en traduisant des éléments de texte ou de parole entre des langues, ce qui permet de lever les obstacles à la communication entre les pays et les cultures.\r\n",
        "\r\n",
        "## Créer une ressource Cognitive Services\r\n",
        "\r\n",
        "Dans Azure, vous pouvez utiliser les services cognitifs pour traduire dans plusieurs langues.\r\n",
        "\r\n",
        "Si vous n’avez pas encore de ressources, suivez ces étapes pour créer une ressource **Cognitive Services** dans votre abonnement Azure :\r\n",
        "\r\n",
        "> **Remarque** : Si vous disposez déjà d’une ressource Cognitive Services, il suffit d’ouvrir sa page **Démarrage rapide** dans le portail Azure et de copier sa clé et son point de terminaison dans la cellule ci-dessous. Sinon, suivez les étapes ci-dessous pour en créer une.\r\n",
        "\r\n",
        "1. Sous un autre onglet du navigateur, ouvrez le portail Azure à l’adresse https://portal.azure.com, en vous connectant avec votre compte Microsoft.\r\n",
        "2. Cliquez sur le bouton **&#65291; Créer une ressource**, recherchez *Cognitive Services*, puis créez une ressource **Cognitive Services** avec les paramètres suivants :\r\n",
        "    - **Abonnement** : *Votre abonnement Azure*.\r\n",
        "    - **Groupe de ressources** : *Sélectionnez ou créez un groupe de ressources portant un nom unique*.\r\n",
        "    - **Région** : *Choisissez une région disponible* :\r\n",
        "    - **Nom** : *Saisissez un nom unique*.\r\n",
        "    - **Niveau tarifaire** : S0\r\n",
        "    - **Je confirme avoir lu et compris les avis** : Sélectionné.\r\n",
        "3. Attendez la fin du déploiement. Ensuite, accédez à votre ressource Cognitive Services et, sur la page **Aperçu**, cliquez sur le lien permettant de gérer les clés du service. Vous aurez besoin du point de terminaison et des clés pour vous connecter à votre ressource Cognitive Services à partir d’applications clientes.\r\n",
        "\r\n",
        "### Obtenir la clé et l’emplacement de votre ressource Cognitive Services\r\n",
        "\r\n",
        "Pour utiliser votre ressource Cognitive Services, les applications clientes ont besoin de sa clé d’authentification et de son emplacement :\r\n",
        "\r\n",
        "1. Dans le portail Azure, sur la page **Clés et Point de terminaison** de votre ressource Cognitive Services, copiez la **Clé 1** de votre ressource et collez-la dans le code ci-dessous, en remplaçant la valeur **YOUR_COG_KEY**.\r\n",
        "2. Copiez l’**Emplacement** de votre ressource et collez-le dans le code ci-dessous, en remplaçant la valeur **YOUR_COG_LOCATION**.\r\n",
        ">**Remarque** : Restez sur la page **Clés et Point de terminaison** et copiez **l’emplacement** de cette page (par exemple : _westus_). _N’ajoutez_ pas d’espaces entre les mots dans le champ Emplacement. \r\n",
        "3. Exécutez le code ci-dessous en cliquant sur le bouton **Exécuter la cellule** (&#9655;) à gauche de la cellule."
      ],
      "metadata": {}
    },
    {
      "cell_type": "code",
      "source": [
        "cog_key = 'YOUR_COG_KEY'\n",
        "cog_location = 'YOUR_COG_LOCATION'\n",
        "\n",
        "print('Ready to use cognitive services in {} using key {}'.format(cog_location, cog_key))"
      ],
      "outputs": [],
      "execution_count": null,
      "metadata": {
        "gather": {
          "logged": 1599695377020
        }
      }
    },
    {
      "cell_type": "markdown",
      "source": [
        "## Traduction de texte\r\n",
        "\r\n",
        "Comme son nom l’indique, le service **Traducteur de texte** permet de traduire du texte d’une langue dans une autre.\r\n",
        "\r\n",
        "Il n’existe pas de SDK Python pour ce service, mais vous pouvez utiliser son interface REST pour soumettre des requêtes à un point de terminaison via HTTP. Ceci est relativement facile dans Python, en utilisant la bibliothèque **Requêtes**. Les informations concernant le texte à traduire et le texte traduit résultant sont échangées au format JSON.\r\n",
        "\r\n",
        "Exécutez la cellule suivante pour créer la fonction correspondante, puis testez la fonction avec une simple traduction de l’anglais au français."
      ],
      "metadata": {}
    },
    {
      "cell_type": "code",
      "source": [
        "# Create a function that makes a REST request to the Text Translation service\r\n",
        "def translate_text(cog_location, cog_key, text, to_lang='fr', from_lang='en'):\n",
        "    import requests, uuid, json\n",
        "\n",
        "    # Create the URL for the Text Translator service REST request\n",
        "    path = 'https://api.cognitive.microsofttranslator.com/translate?api-version=3.0'\n",
        "    params = '&from={}&to={}'.format(from_lang, to_lang)\n",
        "    constructed_url = path + params\n",
        "\n",
        "    # Prepare the request headers with Cognitive Services resource key and region\n",
        "    headers = {\n",
        "        'Ocp-Apim-Subscription-Key': cog_key,\n",
        "        'Ocp-Apim-Subscription-Region':cog_location,\n",
        "        'Content-type': 'application/json',\n",
        "        'X-ClientTraceId': str(uuid.uuid4())\n",
        "    }\n",
        "\n",
        "    # Add the text to be translated to the body\n",
        "    body = [{\n",
        "        'text': text\n",
        "    }]\n",
        "\n",
        "    # Get the translation\n",
        "    request = requests.post(constructed_url, headers=headers, json=body)\n",
        "    response = request.json()\n",
        "    return response[0][\"translations\"][0][\"text\"]\n",
        "\n",
        "\n",
        "# Test the function\r\n",
        "text_to_translate = \"Hello\"\n",
        "\n",
        "translation = translate_text(cog_location, cog_key, text_to_translate, to_lang='fr', from_lang='en')\n",
        "print('{} -> {}'.format(text_to_translate,translation))"
      ],
      "outputs": [],
      "execution_count": null,
      "metadata": {
        "gather": {
          "logged": 1599695393341
        }
      }
    },
    {
      "cell_type": "markdown",
      "source": [
        "Le service doit avoir traduit le texte anglais « Hello » en français « Bonjour ».\r\n",
        "\r\n",
        "Notez que les langues sont spécifiées en utilisant un système standard d’abréviations de langue, avec *en* pour l’anglais et *fr* pour le français. Vous pouvez également utiliser des abréviations qui incluent des cultures spécifiques, ce qui est utile lorsqu’une même langue est utilisée dans différentes zones géographiques, souvent avec des orthographes différentes. Par exemple, *en-US* désigne l’anglais des États-Unis, tandis que *en-GB* indique l’anglais de Grande-Bretagne.\r\n",
        "\r\n",
        "Exécutez la cellule suivante pour traduire l’anglais britannique en italien."
      ],
      "metadata": {}
    },
    {
      "cell_type": "code",
      "source": [
        "text_to_translate = \"Hello\"\n",
        "\n",
        "translation = translate_text(cog_location, cog_key, text_to_translate, to_lang='it-IT', from_lang='en-GB')\n",
        "print('{} -> {}'.format(text_to_translate,translation))"
      ],
      "outputs": [],
      "execution_count": null,
      "metadata": {
        "gather": {
          "logged": 1599695400335
        }
      }
    },
    {
      "cell_type": "markdown",
      "source": [
        "Essayons une autre traduction, cette fois de l’anglais américain au chinois."
      ],
      "metadata": {}
    },
    {
      "cell_type": "code",
      "source": [
        "text_to_translate = \"Hello\"\n",
        "\n",
        "translation = translate_text(cog_location, cog_key, text_to_translate, to_lang='zh-CN', from_lang='en-US')\n",
        "print('{} -> {}'.format(text_to_translate,translation))"
      ],
      "outputs": [],
      "execution_count": null,
      "metadata": {
        "gather": {
          "logged": 1599695403076
        }
      }
    },
    {
      "cell_type": "markdown",
      "source": [
        "## Traduction vocale\r\n",
        "\r\n",
        "Vous pouvez utiliser le service **Parole** pour traduire le langage parlé.\r\n",
        "\r\n",
        "Vous pouvez maintenant exécuter la cellule suivante pour créer et tester une fonction qui utilise le SDK Parole pour traduire la parole audible.\r\n",
        "\r\n",
        "> **Remarque** : Vous aurez besoin de haut-parleurs pour entendre l’audio."
      ],
      "metadata": {}
    },
    {
      "cell_type": "code",
      "source": [
        "from playsound import playsound \n",
        "\n",
        "# Create a function to translate audio in one language to text in another\r\n",
        "def translate_speech(cog_location, cog_key, audio_file=None, to_lang='fr-FR', from_lang='en-US'):\n",
        "    from azure.cognitiveservices.speech import SpeechConfig, AudioConfig, ResultReason\n",
        "    from azure.cognitiveservices.speech.translation import SpeechTranslationConfig, TranslationRecognizer\n",
        "\n",
        "    # Configure the speech translation service\n",
        "    translation_config = SpeechTranslationConfig(subscription=cog_key, region=cog_location)\n",
        "    translation_config.speech_recognition_language = from_lang\n",
        "    translation_config.add_target_language(to_lang)\n",
        "\n",
        "    # Configure audio input\n",
        "    if audio_file is None:\n",
        "        audio_config = AudioConfig() # Use default input (microphone)\n",
        "    else:\n",
        "        audio_config = AudioConfig(filename=audio_file) # Use file input\n",
        "\n",
        "    # Create a translation recognizer and use it to translate speech input\n",
        "    recognizer = TranslationRecognizer(translation_config, audio_config)\n",
        "    result = recognizer.recognize_once()\n",
        "\n",
        "    # Did we get it?\n",
        "    translation = ''\n",
        "    speech_text = ''\n",
        "    if result.reason == ResultReason.TranslatedSpeech:\n",
        "        speech_text = result.text\n",
        "        translation =  result.translations[to_lang]\n",
        "    elif result.reason == ResultReason.RecognizedSpeech:\n",
        "        speech_text = result.text\n",
        "        translation =  'Unable to translate speech'\n",
        "    else:\n",
        "        translation = 'Unknown'\n",
        "        speech_text = 'Unknown'\n",
        "\n",
        "    # return the translation\n",
        "    return speech_text, translation\n",
        "    \n",
        "\n",
        "# Test the function\r\n",
        "import os\n",
        "\n",
        "file_name = 'english.wav'\n",
        "file_path = os.path.join('data', 'translation', file_name)\n",
        "speech, translated_speech = translate_speech(cog_location, cog_key, file_path, to_lang='es', from_lang='en-US')\n",
        "result = '{} -> {}'.format(speech, translated_speech)\n",
        "\n",
        "# Show translated text\r\n",
        "playsound(file_path)\n",
        "print(result)"
      ],
      "outputs": [],
      "execution_count": null,
      "metadata": {
        "gather": {
          "logged": 1599695532629
        }
      }
    },
    {
      "cell_type": "markdown",
      "source": [
        "Notez que la langue « cible » doit être identifiée à l’aide d’un code de langue à 2 caractères (par exemple *en*), tandis que la langue « source » doit inclure l’indicateur de culture (par exemple *en-US*).\r\n",
        "\r\n",
        "Essayons de traduire du français vers l’anglais."
      ],
      "metadata": {}
    },
    {
      "cell_type": "code",
      "source": [
        "from playsound import playsound\n",
        "import os\n",
        "\n",
        "file_name = 'french.wav'\n",
        "file_path = os.path.join('data', 'translation', file_name)\n",
        "speech, translated_speech = translate_speech(cog_location, cog_key, file_path, to_lang='en', from_lang='fr-FR')\n",
        "result = '{} -> {}'.format(speech, translated_speech)\n",
        "\n",
        "# Show translated text\r\n",
        "playsound(file_path)\n",
        "print(result)"
      ],
      "outputs": [],
      "execution_count": null,
      "metadata": {
        "gather": {
          "logged": 1599695542192
        }
      }
    },
    {
      "cell_type": "markdown",
      "source": [
        "## En savoir plus\r\n",
        "\r\n",
        "Vous pouvez en savoir plus sur le [Traducteur de texte](https://docs.microsoft.com/azure/cognitive-services/translator/) et sur la [traduction avec le service Parole](https://docs.microsoft.com/azure/cognitive-services/speech-service/index-speech-translation) dans la documentation du service."
      ],
      "metadata": {}
    }
  ],
  "metadata": {
    "language_info": {
      "name": "python",
      "version": "3.6.9",
      "mimetype": "text/x-python",
      "codemirror_mode": {
        "name": "ipython",
        "version": 3
      },
      "pygments_lexer": "ipython3",
      "nbconvert_exporter": "python",
      "file_extension": ".py"
    },
    "kernelspec": {
      "name": "python3-azureml",
      "language": "python",
      "display_name": "Python 3.6 - AzureML"
    },
    "kernel_info": {
      "name": "python3-azureml"
    },
    "nteract": {
      "version": "nteract-front-end@1.0.0"
    }
  },
  "nbformat": 4,
  "nbformat_minor": 2
}